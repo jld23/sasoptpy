{
 "cells": [
  {
   "cell_type": "markdown",
   "metadata": {},
   "source": [
    "# Portfolio Optimization using sasoptpy\n",
    "In this notebook, we will be using sasoptpy to optimize a potential stock portfolio. The [sasoptpy package](https://github.com/sassoftware/sasoptpy) is a Python package providing a modeling interface for SAS Viya Optimization solvers and supports Linear Problems (LP), Mixed Integer Linear Problems (MILP), Non-Linear Problems (NLP), and Quadratic Problems (QP). [Click here for more information on sasoptpy.](https://sassoftware.github.io/sasoptpy/overview/overview.html)\n",
    "\n",
    "In this example, we want to select a stock portfolio that maximizes our return while not exceeding a specific risk (measured by variance). \n",
    "\n",
    "Thus, we want to maximize $\\sum_{j=1}^n r_j x_j $ where $r_j$ is the expected return of stock j and $x_j$ is the proportion of our portfolio consisting of stock j. \n",
    "\n",
    "We are subject to several constraints. First, $x_1>=0,...,x_n>=0$ meaning that we cannot hold a negative proportion of stock. Additionally, $\\sum_{j=1}^n x_j = 1$ meaning that all of our money is invested in our portfolio and we don't invest more than we have. \n",
    "\n",
    "Our last constraint is around risk tolerance. To measure risk, we are using a covariance matrix estimated using the shrinkage estimator of [Ledoit and Wolf(2003).](http://www.ledoit.net/honey.pdf) Our risk constraint can be written as $\\sum_{i=1}^n   \\sum_{j=1}^n x_i \\sigma_{ij} x_j < R $ where $\\sigma_{ij}$ represents the covariance between stocks i and j and R represents our risk tolerance as measured by variance. \n",
    "\n",
    "This is an over-simplified example and is not meant to act as actual investment advice. \n",
    "***\n",
    "## Table of Contents\n",
    "1. [Importing Necessary Packages](#Importing-Necessary-Packages)\n",
    "1. [Declare Sets and Parameters](#Declare-Sets-and-Parameters)\n",
    "1. [Setting Up the Optimization Problem](#Setting-Up-the-Optimization-Problem)\n",
    "1. [Solve and Explore Results](#Solve-and-Explore-Results)\n",
    "1. [Conclusion](#Conclusion)\n",
    "***"
   ]
  },
  {
   "cell_type": "markdown",
   "metadata": {},
   "source": [
    "## Importing Necessary Packages\n",
    "We will start by importing all of the packages we need. "
   ]
  },
  {
   "cell_type": "code",
   "execution_count": 1,
   "metadata": {},
   "outputs": [],
   "source": [
    "# For working with dataframes\n",
    "import pandas as pd\n",
    "# For visualizing data\n",
    "import matplotlib.pyplot as plt\n",
    "# For working with SAS\n",
    "import swat\n",
    "# For working with SAS Optimization\n",
    "import sasoptpy as so"
   ]
  },
  {
   "cell_type": "markdown",
   "metadata": {},
   "source": [
    "*** \n",
    "## Declare Sets and Parameters\n",
    "Next, we will begin to set up our optimization problem by declaring the sets and parameters we will be using. These sets and parameters will represent the data necessary to solve our optimization problem. \n"
   ]
  },
  {
   "cell_type": "code",
   "execution_count": 2,
   "metadata": {},
   "outputs": [],
   "source": [
    "# Our risk threshold\n",
    "RISK_THRESHOLD = 200\n",
    "\n",
    "# A list of fictional assets in a stock portfolio\n",
    "ASSETS = ['AS0', 'AS1', 'AS2', 'AS3', 'AS4', 'AS5',  'AS6',  'AS7',  'AS8',  'AS9']\n",
    "\n",
    "# The expected returns on those assets \n",
    "EXPECTED_RETURNS = [9.83, 11.90, 7.32, 1.31, 5.74, 4.58, 11.15, 17.21, 15.92, 7.37]"
   ]
  },
  {
   "cell_type": "code",
   "execution_count": 3,
   "metadata": {},
   "outputs": [
    {
     "data": {
      "text/html": [
       "<div>\n",
       "<style scoped>\n",
       "    .dataframe tbody tr th:only-of-type {\n",
       "        vertical-align: middle;\n",
       "    }\n",
       "\n",
       "    .dataframe tbody tr th {\n",
       "        vertical-align: top;\n",
       "    }\n",
       "\n",
       "    .dataframe thead th {\n",
       "        text-align: right;\n",
       "    }\n",
       "</style>\n",
       "<table border=\"1\" class=\"dataframe\">\n",
       "  <thead>\n",
       "    <tr style=\"text-align: right;\">\n",
       "      <th></th>\n",
       "      <th>EXPECTED_RETURNS</th>\n",
       "    </tr>\n",
       "    <tr>\n",
       "      <th>ASSETS</th>\n",
       "      <th></th>\n",
       "    </tr>\n",
       "  </thead>\n",
       "  <tbody>\n",
       "    <tr>\n",
       "      <th>AS0</th>\n",
       "      <td>9.83</td>\n",
       "    </tr>\n",
       "    <tr>\n",
       "      <th>AS1</th>\n",
       "      <td>11.90</td>\n",
       "    </tr>\n",
       "    <tr>\n",
       "      <th>AS2</th>\n",
       "      <td>7.32</td>\n",
       "    </tr>\n",
       "    <tr>\n",
       "      <th>AS3</th>\n",
       "      <td>1.31</td>\n",
       "    </tr>\n",
       "    <tr>\n",
       "      <th>AS4</th>\n",
       "      <td>5.74</td>\n",
       "    </tr>\n",
       "    <tr>\n",
       "      <th>AS5</th>\n",
       "      <td>4.58</td>\n",
       "    </tr>\n",
       "    <tr>\n",
       "      <th>AS6</th>\n",
       "      <td>11.15</td>\n",
       "    </tr>\n",
       "    <tr>\n",
       "      <th>AS7</th>\n",
       "      <td>17.21</td>\n",
       "    </tr>\n",
       "    <tr>\n",
       "      <th>AS8</th>\n",
       "      <td>15.92</td>\n",
       "    </tr>\n",
       "    <tr>\n",
       "      <th>AS9</th>\n",
       "      <td>7.37</td>\n",
       "    </tr>\n",
       "  </tbody>\n",
       "</table>\n",
       "</div>"
      ],
      "text/plain": [
       "        EXPECTED_RETURNS\n",
       "ASSETS                  \n",
       "AS0                 9.83\n",
       "AS1                11.90\n",
       "AS2                 7.32\n",
       "AS3                 1.31\n",
       "AS4                 5.74\n",
       "AS5                 4.58\n",
       "AS6                11.15\n",
       "AS7                17.21\n",
       "AS8                15.92\n",
       "AS9                 7.37"
      ]
     },
     "execution_count": 3,
     "metadata": {},
     "output_type": "execute_result"
    }
   ],
   "source": [
    "# A dataframe holding the expected returns\n",
    "RETURNS = pd.DataFrame(list(zip(ASSETS, EXPECTED_RETURNS)), \n",
    "        columns=['ASSETS', 'EXPECTED_RETURNS']).set_index('ASSETS')\n",
    "RETURNS"
   ]
  },
  {
   "cell_type": "code",
   "execution_count": 4,
   "metadata": {},
   "outputs": [
    {
     "data": {
      "text/html": [
       "<div>\n",
       "<style scoped>\n",
       "    .dataframe tbody tr th:only-of-type {\n",
       "        vertical-align: middle;\n",
       "    }\n",
       "\n",
       "    .dataframe tbody tr th {\n",
       "        vertical-align: top;\n",
       "    }\n",
       "\n",
       "    .dataframe thead th {\n",
       "        text-align: right;\n",
       "    }\n",
       "</style>\n",
       "<table border=\"1\" class=\"dataframe\">\n",
       "  <thead>\n",
       "    <tr style=\"text-align: right;\">\n",
       "      <th></th>\n",
       "      <th>AS0</th>\n",
       "      <th>AS1</th>\n",
       "      <th>AS2</th>\n",
       "      <th>AS3</th>\n",
       "      <th>AS4</th>\n",
       "      <th>AS5</th>\n",
       "      <th>AS6</th>\n",
       "      <th>AS7</th>\n",
       "      <th>AS8</th>\n",
       "      <th>AS9</th>\n",
       "    </tr>\n",
       "    <tr>\n",
       "      <th>ASSETS</th>\n",
       "      <th></th>\n",
       "      <th></th>\n",
       "      <th></th>\n",
       "      <th></th>\n",
       "      <th></th>\n",
       "      <th></th>\n",
       "      <th></th>\n",
       "      <th></th>\n",
       "      <th></th>\n",
       "      <th></th>\n",
       "    </tr>\n",
       "  </thead>\n",
       "  <tbody>\n",
       "    <tr>\n",
       "      <th>AS0</th>\n",
       "      <td>423.77</td>\n",
       "      <td>318.95</td>\n",
       "      <td>170.78</td>\n",
       "      <td>143.20</td>\n",
       "      <td>90.28</td>\n",
       "      <td>105.25</td>\n",
       "      <td>203.89</td>\n",
       "      <td>252.32</td>\n",
       "      <td>108.30</td>\n",
       "      <td>200.58</td>\n",
       "    </tr>\n",
       "    <tr>\n",
       "      <th>AS1</th>\n",
       "      <td>318.95</td>\n",
       "      <td>1443.56</td>\n",
       "      <td>291.85</td>\n",
       "      <td>183.88</td>\n",
       "      <td>226.76</td>\n",
       "      <td>219.85</td>\n",
       "      <td>302.50</td>\n",
       "      <td>489.91</td>\n",
       "      <td>242.84</td>\n",
       "      <td>408.71</td>\n",
       "    </tr>\n",
       "    <tr>\n",
       "      <th>AS2</th>\n",
       "      <td>170.76</td>\n",
       "      <td>291.85</td>\n",
       "      <td>620.41</td>\n",
       "      <td>241.68</td>\n",
       "      <td>162.42</td>\n",
       "      <td>220.33</td>\n",
       "      <td>269.85</td>\n",
       "      <td>243.93</td>\n",
       "      <td>136.24</td>\n",
       "      <td>413.14</td>\n",
       "    </tr>\n",
       "    <tr>\n",
       "      <th>AS3</th>\n",
       "      <td>143.20</td>\n",
       "      <td>183.88</td>\n",
       "      <td>241.68</td>\n",
       "      <td>806.94</td>\n",
       "      <td>136.94</td>\n",
       "      <td>144.73</td>\n",
       "      <td>187.12</td>\n",
       "      <td>192.30</td>\n",
       "      <td>127.08</td>\n",
       "      <td>294.13</td>\n",
       "    </tr>\n",
       "    <tr>\n",
       "      <th>AS4</th>\n",
       "      <td>90.28</td>\n",
       "      <td>226.06</td>\n",
       "      <td>152.42</td>\n",
       "      <td>136.94</td>\n",
       "      <td>597.30</td>\n",
       "      <td>109.05</td>\n",
       "      <td>149.69</td>\n",
       "      <td>175.79</td>\n",
       "      <td>108.41</td>\n",
       "      <td>233.04</td>\n",
       "    </tr>\n",
       "    <tr>\n",
       "      <th>AS5</th>\n",
       "      <td>105.25</td>\n",
       "      <td>219.55</td>\n",
       "      <td>220.33</td>\n",
       "      <td>144.73</td>\n",
       "      <td>119.05</td>\n",
       "      <td>570.09</td>\n",
       "      <td>125.59</td>\n",
       "      <td>180.80</td>\n",
       "      <td>122.89</td>\n",
       "      <td>383.32</td>\n",
       "    </tr>\n",
       "    <tr>\n",
       "      <th>AS6</th>\n",
       "      <td>203.89</td>\n",
       "      <td>302.50</td>\n",
       "      <td>269.85</td>\n",
       "      <td>187.12</td>\n",
       "      <td>149.69</td>\n",
       "      <td>145.58</td>\n",
       "      <td>781.05</td>\n",
       "      <td>280.31</td>\n",
       "      <td>173.51</td>\n",
       "      <td>251.25</td>\n",
       "    </tr>\n",
       "    <tr>\n",
       "      <th>AS7</th>\n",
       "      <td>252.32</td>\n",
       "      <td>489.91</td>\n",
       "      <td>243.93</td>\n",
       "      <td>192.30</td>\n",
       "      <td>185.79</td>\n",
       "      <td>180.80</td>\n",
       "      <td>280.31</td>\n",
       "      <td>838.37</td>\n",
       "      <td>220.09</td>\n",
       "      <td>331.84</td>\n",
       "    </tr>\n",
       "    <tr>\n",
       "      <th>AS8</th>\n",
       "      <td>118.30</td>\n",
       "      <td>242.84</td>\n",
       "      <td>136.24</td>\n",
       "      <td>127.08</td>\n",
       "      <td>108.41</td>\n",
       "      <td>122.89</td>\n",
       "      <td>173.51</td>\n",
       "      <td>220.19</td>\n",
       "      <td>427.53</td>\n",
       "      <td>175.78</td>\n",
       "    </tr>\n",
       "    <tr>\n",
       "      <th>AS9</th>\n",
       "      <td>210.50</td>\n",
       "      <td>408.71</td>\n",
       "      <td>413.14</td>\n",
       "      <td>294.13</td>\n",
       "      <td>233.04</td>\n",
       "      <td>383.32</td>\n",
       "      <td>251.25</td>\n",
       "      <td>351.84</td>\n",
       "      <td>175.78</td>\n",
       "      <td>1358.79</td>\n",
       "    </tr>\n",
       "  </tbody>\n",
       "</table>\n",
       "</div>"
      ],
      "text/plain": [
       "           AS0      AS1     AS2     AS3     AS4     AS5     AS6     AS7  \\\n",
       "ASSETS                                                                    \n",
       "AS0     423.77   318.95  170.78  143.20   90.28  105.25  203.89  252.32   \n",
       "AS1     318.95  1443.56  291.85  183.88  226.76  219.85  302.50  489.91   \n",
       "AS2     170.76   291.85  620.41  241.68  162.42  220.33  269.85  243.93   \n",
       "AS3     143.20   183.88  241.68  806.94  136.94  144.73  187.12  192.30   \n",
       "AS4      90.28   226.06  152.42  136.94  597.30  109.05  149.69  175.79   \n",
       "AS5     105.25   219.55  220.33  144.73  119.05  570.09  125.59  180.80   \n",
       "AS6     203.89   302.50  269.85  187.12  149.69  145.58  781.05  280.31   \n",
       "AS7     252.32   489.91  243.93  192.30  185.79  180.80  280.31  838.37   \n",
       "AS8     118.30   242.84  136.24  127.08  108.41  122.89  173.51  220.19   \n",
       "AS9     210.50   408.71  413.14  294.13  233.04  383.32  251.25  351.84   \n",
       "\n",
       "           AS8      AS9  \n",
       "ASSETS                   \n",
       "AS0     108.30   200.58  \n",
       "AS1     242.84   408.71  \n",
       "AS2     136.24   413.14  \n",
       "AS3     127.08   294.13  \n",
       "AS4     108.41   233.04  \n",
       "AS5     122.89   383.32  \n",
       "AS6     173.51   251.25  \n",
       "AS7     220.09   331.84  \n",
       "AS8     427.53   175.78  \n",
       "AS9     175.78  1358.79  "
      ]
     },
     "execution_count": 4,
     "metadata": {},
     "output_type": "execute_result"
    }
   ],
   "source": [
    "# The covariance matrix\n",
    "COVAR = pd.DataFrame([\n",
    "    ['AS0', 423.77, 318.95,  170.78, 143.20, 90.28,  105.25, 203.89, 252.32, 108.30, 200.58],\n",
    "    ['AS1', 318.95, 1443.56, 291.85, 183.88, 226.76, 219.85, 302.50, 489.91, 242.84, 408.71],\n",
    "    ['AS2', 170.76, 291.85,  620.41, 241.68, 162.42, 220.33, 269.85, 243.93, 136.24, 413.14],\n",
    "    ['AS3', 143.20, 183.88,  241.68, 806.94, 136.94, 144.73, 187.12, 192.30, 127.08, 294.13],\n",
    "    ['AS4', 90.28,  226.06,  152.42, 136.94, 597.30, 109.05, 149.69, 175.79, 108.41, 233.04],\n",
    "    ['AS5', 105.25, 219.55,  220.33, 144.73, 119.05, 570.09, 125.59, 180.80, 122.89, 383.32],\n",
    "    ['AS6', 203.89, 302.50,  269.85, 187.12, 149.69, 145.58, 781.05, 280.31, 173.51, 251.25],\n",
    "    ['AS7', 252.32, 489.91,  243.93, 192.30, 185.79, 180.80, 280.31, 838.37, 220.09, 331.84],\n",
    "    ['AS8', 118.30, 242.84,  136.24, 127.08, 108.41, 122.89, 173.51, 220.19, 427.53, 175.78], \n",
    "    ['AS9', 210.50, 408.71,  413.14, 294.13, 233.04, 383.32, 251.25, 351.84, 175.78, 1358.79]], \n",
    "    columns = ['ASSETS', 'AS0', 'AS1', 'AS2', 'AS3', 'AS4', 'AS5',  'AS6',  'AS7',  'AS8',  'AS9']\n",
    "    ).set_index('ASSETS')\n",
    "COVAR"
   ]
  },
  {
   "cell_type": "markdown",
   "metadata": {},
   "source": [
    "***\n",
    "## Setting Up the Optimization Problem\n",
    "Now that we have the data necessary for our optimization problem, we will finish setting up the problem. We will start by connecting to CAS and creating an empty optimization model. "
   ]
  },
  {
   "cell_type": "code",
   "execution_count": 5,
   "metadata": {},
   "outputs": [],
   "source": [
    "# Connecting to CAS\n",
    "conn = swat.CAS('localhost', 5570, authinfo='~/.authinfo', caslib=\"CASUSER\")"
   ]
  },
  {
   "cell_type": "code",
   "execution_count": 6,
   "metadata": {},
   "outputs": [
    {
     "name": "stdout",
     "output_type": "stream",
     "text": [
      "NOTE: Initialized model portfolio_opt.\n"
     ]
    }
   ],
   "source": [
    "# Creating our optmization model \n",
    "m = so.Model(name='portfolio_opt', session=conn)"
   ]
  },
  {
   "cell_type": "markdown",
   "metadata": {},
   "source": [
    "The following variable will hold the answers to our optimization problem - what proportion of our portfolio should each stock make up? In our declaration, we also ensure that our proportions are non-negative by specifying a lower bound of zero.   "
   ]
  },
  {
   "cell_type": "code",
   "execution_count": 7,
   "metadata": {},
   "outputs": [
    {
     "name": "stdout",
     "output_type": "stream",
     "text": [
      "Variable Group (proportion) [\n",
      "  [AS0: proportion[AS0]]\n",
      "  [AS1: proportion[AS1]]\n",
      "  [AS2: proportion[AS2]]\n",
      "  [AS3: proportion[AS3]]\n",
      "  [AS4: proportion[AS4]]\n",
      "  [AS5: proportion[AS5]]\n",
      "  [AS6: proportion[AS6]]\n",
      "  [AS7: proportion[AS7]]\n",
      "  [AS8: proportion[AS8]]\n",
      "  [AS9: proportion[AS9]]\n",
      "]\n"
     ]
    }
   ],
   "source": [
    "# Defining variable to hold proportion\n",
    "proportion=m.add_variables(ASSETS, name='proportion', lb=0)\n",
    "print(proportion)"
   ]
  },
  {
   "cell_type": "markdown",
   "metadata": {},
   "source": [
    "Our next step is to add our constraints. "
   ]
  },
  {
   "cell_type": "code",
   "execution_count": 8,
   "metadata": {},
   "outputs": [],
   "source": [
    "# Constraint such that all of our money is invested\n",
    "money_con = m.add_constraint(\n",
    "        (so.expr_sum(proportion[i] for i in ASSETS) == 1), \n",
    "        name='money_con')"
   ]
  },
  {
   "cell_type": "code",
   "execution_count": 9,
   "metadata": {},
   "outputs": [],
   "source": [
    "# Constraint such that we do not exceed our riskiness value\n",
    "risk_con = m.add_constraint(\n",
    "        (so.expr_sum(COVAR.at[i,j]*proportion[i]*proportion[j] for i in ASSETS for j in ASSETS) <= RISK_THRESHOLD), \n",
    "        name='risk_con')"
   ]
  },
  {
   "cell_type": "markdown",
   "metadata": {},
   "source": [
    "Our last step in setting up our optimization problem is to specify our objective function. We want to maximize our potential total returns. "
   ]
  },
  {
   "cell_type": "code",
   "execution_count": 10,
   "metadata": {},
   "outputs": [],
   "source": [
    "# Objective to maximize return \n",
    "total_return = m.set_objective(so.expr_sum(RETURNS['EXPECTED_RETURNS'][i]*proportion[i] for i in ASSETS),\n",
    "                               sense=so.MAX, \n",
    "                               name='total_return')"
   ]
  },
  {
   "cell_type": "markdown",
   "metadata": {},
   "source": [
    "*** \n",
    "## Solve and Explore Results\n",
    "Now that we have set up our problem, solving our optimization problem can be done in a single line. The SAS optimization procedure will automatically decide what type of algorithm to use based on our problem, making solving the optimization problem incredibly easy! "
   ]
  },
  {
   "cell_type": "code",
   "execution_count": 11,
   "metadata": {},
   "outputs": [
    {
     "name": "stdout",
     "output_type": "stream",
     "text": [
      "NOTE: Added action set 'optimization'.\n",
      "NOTE: Converting model portfolio_opt to OPTMODEL.\n",
      "NOTE: Submitting OPTMODEL code to CAS server.\n",
      "NOTE: Problem generation will use 12 threads.\n",
      "NOTE: The problem has 10 variables (0 free, 0 fixed).\n",
      "NOTE: The problem has 1 linear constraints (0 LE, 1 EQ, 0 GE, 0 range).\n",
      "NOTE: The problem has 10 linear constraint coefficients.\n",
      "NOTE: The problem has 1 nonlinear constraints (1 LE, 0 EQ, 0 GE, 0 range).\n",
      "NOTE: The OPTMODEL presolver removed 0 variables, 0 linear constraints, and 0 nonlinear constraints.\n",
      "NOTE: Using analytic derivatives for objective.\n",
      "NOTE: Using analytic derivatives for nonlinear constraints.\n",
      "NOTE: Using 10 threads for nonlinear evaluation.\n",
      "NOTE: The NLP solver is called.\n",
      "NOTE: The Interior Point Direct algorithm is used.\n",
      "NOTE: Initial point was changed to be interior to bounds.\n",
      "                           Objective                          Optimality\n",
      "              Iter             Value     Infeasibility             Error\n",
      "                 0        0.92330000        0.90000000       11.46171412\n",
      "                 1       10.24527829       16.71409942        8.49575221\n",
      "                 2        9.94800619        5.96041816        4.70604199\n",
      "                 3        9.38211919   0.0000000084150        2.43769424\n",
      "                 4        9.45860906   0.0000000066389        0.07555329\n",
      "                 5        9.66174625   0.0000000101824        0.12836206\n",
      "                 6        9.90417538   0.0000000003228        0.00587874\n",
      "                 7       10.09116117        0.06779978        0.03628449\n",
      "                 8       10.13653457        0.02482237        0.00144232\n",
      "                 9       10.13207617   0.0000000000224        0.00018231\n",
      "                10       10.14022936        0.00042715        0.00014791\n",
      "                11       10.14015003  6.5991656584E-12        0.00000928\n",
      "                12       10.14059232  4.9551474035E-12   0.0000007443545\n",
      "NOTE: Optimal.\n",
      "NOTE: Objective = 10.140592319.\n",
      "NOTE: The output table 'SOLUTION' in caslib 'CASUSER(sasdemo)' has 10 rows and 6 columns.\n",
      "NOTE: The output table 'DUAL' in caslib 'CASUSER(sasdemo)' has 2 rows and 4 columns.\n",
      "NOTE: The CAS table 'solutionSummary' in caslib 'CASUSER(sasdemo)' has 12 rows and 4 columns.\n",
      "NOTE: The CAS table 'problemSummary' in caslib 'CASUSER(sasdemo)' has 20 rows and 4 columns.\n"
     ]
    }
   ],
   "source": [
    "sol = m.solve()"
   ]
  },
  {
   "cell_type": "markdown",
   "metadata": {},
   "source": [
    "By examining our notes above, we can see that an optimal solution was found using the [Interior Point Direct algorithm]( https://go.documentation.sas.com/?docsetId=casmopt&docsetTarget=casmopt_nlpsolver_details05.htm&docsetVersion=8.5&locale=en)  with a potential expected returned of 10.14. We can also examine our solution summary with the get_solution_summary() function. "
   ]
  },
  {
   "cell_type": "code",
   "execution_count": 12,
   "metadata": {},
   "outputs": [
    {
     "data": {
      "text/html": [
       "<div>\n",
       "<style scoped>\n",
       "    .dataframe tbody tr th:only-of-type {\n",
       "        vertical-align: middle;\n",
       "    }\n",
       "\n",
       "    .dataframe tbody tr th {\n",
       "        vertical-align: top;\n",
       "    }\n",
       "\n",
       "    .dataframe thead th {\n",
       "        text-align: right;\n",
       "    }\n",
       "</style>\n",
       "<table border=\"1\" class=\"dataframe\"><caption>Selected Rows from Table SOLUTIONSUMMARY</caption>\n",
       "  <thead>\n",
       "    <tr style=\"text-align: right;\">\n",
       "      <th title=\"\"></th>\n",
       "      <th title=\"Value\">Value</th>\n",
       "    </tr>\n",
       "    <tr>\n",
       "      <th title=\"Label\">Label</th>\n",
       "      <th title=\"\"></th>\n",
       "    </tr>\n",
       "  </thead>\n",
       "  <tbody>\n",
       "    <tr>\n",
       "      <th>Solver</th>\n",
       "      <td>NLP</td>\n",
       "    </tr>\n",
       "    <tr>\n",
       "      <th>Algorithm</th>\n",
       "      <td>Interior Point Direct</td>\n",
       "    </tr>\n",
       "    <tr>\n",
       "      <th>Objective Function</th>\n",
       "      <td>total_return</td>\n",
       "    </tr>\n",
       "    <tr>\n",
       "      <th>Solution Status</th>\n",
       "      <td>Optimal</td>\n",
       "    </tr>\n",
       "    <tr>\n",
       "      <th>Objective Value</th>\n",
       "      <td>10.140592319</td>\n",
       "    </tr>\n",
       "    <tr>\n",
       "      <th></th>\n",
       "      <td></td>\n",
       "    </tr>\n",
       "    <tr>\n",
       "      <th>Optimality Error</th>\n",
       "      <td>7.4435453E-7</td>\n",
       "    </tr>\n",
       "    <tr>\n",
       "      <th>Infeasibility</th>\n",
       "      <td>4.955147E-12</td>\n",
       "    </tr>\n",
       "    <tr>\n",
       "      <th></th>\n",
       "      <td></td>\n",
       "    </tr>\n",
       "    <tr>\n",
       "      <th>Iterations</th>\n",
       "      <td>12</td>\n",
       "    </tr>\n",
       "    <tr>\n",
       "      <th>Presolve Time</th>\n",
       "      <td>0.00</td>\n",
       "    </tr>\n",
       "    <tr>\n",
       "      <th>Solution Time</th>\n",
       "      <td>0.02</td>\n",
       "    </tr>\n",
       "  </tbody>\n",
       "</table>\n",
       "</div>"
      ],
      "text/plain": [
       "Selected Rows from Table SOLUTIONSUMMARY\n",
       "\n",
       "                                    Value\n",
       "Label                                    \n",
       "Solver                                NLP\n",
       "Algorithm           Interior Point Direct\n",
       "Objective Function           total_return\n",
       "Solution Status                   Optimal\n",
       "Objective Value              10.140592319\n",
       "                                         \n",
       "Optimality Error             7.4435453E-7\n",
       "Infeasibility                4.955147E-12\n",
       "                                         \n",
       "Iterations                             12\n",
       "Presolve Time                        0.00\n",
       "Solution Time                        0.02"
      ]
     },
     "execution_count": 12,
     "metadata": {},
     "output_type": "execute_result"
    }
   ],
   "source": [
    "m.get_solution_summary()"
   ]
  },
  {
   "cell_type": "markdown",
   "metadata": {},
   "source": [
    "Next, let's examine the [dual values.](https://go.documentation.sas.com/?docsetId=casmopt&docsetVersion=8.5&docsetTarget=casmopt_optmodel_details50.htm&locale=en) Dual values are associated with each constraint and will tell us if the constraint is tight. A non-zero dual value means that if we are able to change the constraint we can get more out of our objective.   "
   ]
  },
  {
   "cell_type": "code",
   "execution_count": 13,
   "metadata": {},
   "outputs": [
    {
     "data": {
      "text/html": [
       "<div>\n",
       "<style scoped>\n",
       "    .dataframe tbody tr th:only-of-type {\n",
       "        vertical-align: middle;\n",
       "    }\n",
       "\n",
       "    .dataframe tbody tr th {\n",
       "        vertical-align: top;\n",
       "    }\n",
       "\n",
       "    .dataframe thead th {\n",
       "        text-align: right;\n",
       "    }\n",
       "</style>\n",
       "<table border=\"1\" class=\"dataframe\"><caption>Selected Rows from Table DUAL</caption>\n",
       "  <thead>\n",
       "    <tr style=\"text-align: right;\">\n",
       "      <th title=\"\"></th>\n",
       "      <th title=\"j\">j</th>\n",
       "      <th title=\"con\">con</th>\n",
       "      <th title=\"value\">value</th>\n",
       "      <th title=\"dual\">dual</th>\n",
       "    </tr>\n",
       "  </thead>\n",
       "  <tbody>\n",
       "    <tr>\n",
       "      <th>0</th>\n",
       "      <td>1.0</td>\n",
       "      <td>money_con</td>\n",
       "      <td>1.000000</td>\n",
       "      <td>48.452232</td>\n",
       "    </tr>\n",
       "    <tr>\n",
       "      <th>1</th>\n",
       "      <td>2.0</td>\n",
       "      <td>risk_con</td>\n",
       "      <td>199.999995</td>\n",
       "      <td>0.146482</td>\n",
       "    </tr>\n",
       "  </tbody>\n",
       "</table>\n",
       "</div>"
      ],
      "text/plain": [
       "Selected Rows from Table DUAL\n",
       "\n",
       "     j        con       value       dual\n",
       "0  1.0  money_con    1.000000  48.452232\n",
       "1  2.0   risk_con  199.999995   0.146482"
      ]
     },
     "execution_count": 13,
     "metadata": {},
     "output_type": "execute_result"
    }
   ],
   "source": [
    "m.get_solution('Dual')"
   ]
  },
  {
   "cell_type": "markdown",
   "metadata": {},
   "source": [
    "Our risk constraint has a dual value near zero, so becoming riskier will not have a large impact on our expected return. Having more money to invest on the other hand would have a greater impact on our expected return.  To close, let’s examine the proportions of each stock our optimization selected. "
   ]
  },
  {
   "cell_type": "code",
   "execution_count": 14,
   "metadata": {},
   "outputs": [
    {
     "name": "stdout",
     "output_type": "stream",
     "text": [
      "AS0 0.2638\n",
      "AS1 0.0\n",
      "AS2 0.042\n",
      "AS3 0.0396\n",
      "AS4 0.1538\n",
      "AS5 0.1303\n",
      "AS6 0.0415\n",
      "AS7 0.0069\n",
      "AS8 0.322\n",
      "AS9 0.0\n"
     ]
    }
   ],
   "source": [
    "prop = []\n",
    "for i in ASSETS:\n",
    "    print(i, round(proportion[i].get_value(), 4))\n",
    "    prop.append(round(proportion[i].get_value(), 4))"
   ]
  },
  {
   "cell_type": "code",
   "execution_count": 15,
   "metadata": {},
   "outputs": [
    {
     "data": {
      "image/png": "[encoded data removed]",
      "text/plain": [
       "<Figure size 432x288 with 1 Axes>"
      ]
     },
     "metadata": {
      "needs_background": "light"
     },
     "output_type": "display_data"
    }
   ],
   "source": [
    "plt.bar(ASSETS, prop)\n",
    "plt.xlabel(\"Asset\")\n",
    "plt.title(\"Suggested Proportion of Portfolio by Asset\")\n",
    "plt.show()"
   ]
  },
  {
   "cell_type": "markdown",
   "metadata": {},
   "source": [
    "*** \n",
    "## Conclusion\n",
    "In today’s notebook, we used the sasoptpy package to suggest our portfolio proportions to maximize expected returns while accounting for risk. \n",
    "\n",
    "If you want to learn more about sasoptpy, please check out [the sasoptpy GitHub page]( https://github.com/sassoftware/sasoptpy) or [the sasoptypy documentation.]( https://sassoftware.github.io/sasoptpy/overview/overview.html) \n",
    "\n",
    "Want to dive deeper into optimization for data science? Then please check out [the Optimization Concepts for Data Science and Artificial Intelligence!](https://support.sas.com/edu/schedules.html?id=18581&ctry=US)"
   ]
  }
 ],
 "metadata": {
  "kernelspec": {
   "display_name": "Python 3",
   "language": "python",
   "name": "python3"
  },
  "language_info": {
   "codemirror_mode": {
    "name": "ipython",
    "version": 3
   },
   "file_extension": ".py",
   "mimetype": "text/x-python",
   "name": "python",
   "nbconvert_exporter": "python",
   "pygments_lexer": "ipython3",
   "version": "3.7.7"
  }
 },
 "nbformat": 4,
 "nbformat_minor": 4
}
